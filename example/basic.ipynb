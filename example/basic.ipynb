{
 "cells": [
  {
   "cell_type": "code",
   "execution_count": 5,
   "metadata": {
    "ExecuteTime": {
     "end_time": "2021-04-17T12:57:00.937123Z",
     "start_time": "2021-04-17T12:57:00.930371Z"
    }
   },
   "outputs": [],
   "source": [
    "from autograph import create_plot\n",
    "from autograph.core.style import LegendStyle,TextStyle\n",
    "from autograph.core.enumstyle import Position\n",
    "import numpy as np\n",
    "import matplotlib.pyplot as plt"
   ]
  },
  {
   "cell_type": "code",
   "execution_count": 6,
   "metadata": {
    "ExecuteTime": {
     "end_time": "2021-04-17T12:57:01.693359Z",
     "start_time": "2021-04-17T12:57:01.687409Z"
    }
   },
   "outputs": [],
   "source": [
    "X = np.linspace(0, 10, 100)\n",
    "Y = 4+2*np.sin(2*X)"
   ]
  },
  {
   "cell_type": "markdown",
   "metadata": {},
   "source": [
    "# Custom title and axes\n"
   ]
  },
  {
   "cell_type": "code",
   "execution_count": 9,
   "metadata": {
    "ExecuteTime": {
     "end_time": "2021-04-17T12:57:48.334753Z",
     "start_time": "2021-04-17T12:57:48.199783Z"
    },
    "pycharm": {
     "name": "#%%\n"
    }
   },
   "outputs": [
    {
     "data": {
      "image/png": "[encoded data removed]",
      "text/plain": [
       "<Figure size 432x288 with 1 Axes>"
      ]
     },
     "metadata": {
      "needs_background": "light"
     },
     "output_type": "display_data"
    }
   ],
   "source": [
    "plot = create_plot('matplotlib') # plotly is also a possible value\n",
    "plot.title = \"My awesome plot\" # Change title\n",
    "plot.title_style = TextStyle()\n",
    "plot.title_style.weight=\"bold\"\n",
    "plot.x_label = \"X\" # Change x name\n",
    "plot.y_label = \"Y\" # Change y name\n",
    "plot.plot(X,Y,label=\"label\")\n",
    "plot.legend=LegendStyle()\n",
    "plot.legend.position=Position.LEFT\n",
    "                                                     "
   ]
  },
  {
   "cell_type": "code",
   "execution_count": 5,
   "metadata": {
    "ExecuteTime": {
     "end_time": "2021-04-17T11:52:30.599395Z",
     "start_time": "2021-04-17T11:52:30.597249Z"
    }
   },
   "outputs": [],
   "source": [
    "plot.xlim=(6,10)"
   ]
  },
  {
   "cell_type": "code",
   "execution_count": 8,
   "metadata": {
    "ExecuteTime": {
     "end_time": "2021-04-17T11:53:21.342917Z",
     "start_time": "2021-04-17T11:53:21.334172Z"
    }
   },
   "outputs": [
    {
     "data": {
      "text/plain": [
       "(<Figure size 432x288 with 1 Axes>,\n",
       " <AxesSubplot:title={'center':'My awesome plot'}, xlabel='X', ylabel='Y'>)"
      ]
     },
     "execution_count": 8,
     "metadata": {},
     "output_type": "execute_result"
    }
   ],
   "source": [
    "plot.show()   "
   ]
  },
  {
   "cell_type": "markdown",
   "metadata": {
    "pycharm": {
     "name": "#%% md\n"
    }
   },
   "source": [
    "# Limits\n",
    "\n"
   ]
  },
  {
   "cell_type": "code",
   "execution_count": 11,
   "metadata": {
    "ExecuteTime": {
     "end_time": "2021-04-17T10:34:12.506200Z",
     "start_time": "2021-04-17T10:34:12.494710Z"
    },
    "pycharm": {
     "name": "#%%\n"
    }
   },
   "outputs": [
    {
     "data": {
      "text/plain": [
       "(<Figure size 432x288 with 1 Axes>,\n",
       " <AxesSubplot:title={'center':'My awesome plot'}, xlabel='X', ylabel='Y'>)"
      ]
     },
     "execution_count": 11,
     "metadata": {},
     "output_type": "execute_result"
    }
   ],
   "source": [
    "plot.show()"
   ]
  },
  {
   "cell_type": "code",
   "execution_count": null,
   "metadata": {},
   "outputs": [],
   "source": []
  }
 ],
 "metadata": {
  "kernelspec": {
   "display_name": "Python 3",
   "language": "python",
   "name": "python3"
  },
  "language_info": {
   "codemirror_mode": {
    "name": "ipython",
    "version": 3
   },
   "file_extension": ".py",
   "mimetype": "text/x-python",
   "name": "python",
   "nbconvert_exporter": "python",
   "pygments_lexer": "ipython3",
   "version": "3.8.6"
  },
  "toc": {
   "base_numbering": 1,
   "nav_menu": {},
   "number_sections": true,
   "sideBar": true,
   "skip_h1_title": false,
   "title_cell": "Table of Contents",
   "title_sidebar": "Contents",
   "toc_cell": false,
   "toc_position": {},
   "toc_section_display": true,
   "toc_window_display": false
  }
 },
 "nbformat": 4,
 "nbformat_minor": 1
}
